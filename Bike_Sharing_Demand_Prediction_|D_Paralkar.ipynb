{
  "nbformat": 4,
  "nbformat_minor": 0,
  "metadata": {
    "colab": {
      "private_outputs": true,
      "provenance": [],
      "collapsed_sections": [
        "yQaldy8SH6Dl",
        "mDgbUHAGgjLW",
        "gIfDvo9L0UH2"
      ],
      "gpuType": "T4",
      "include_colab_link": true
    },
    "kernelspec": {
      "name": "python3",
      "display_name": "Python 3"
    },
    "language_info": {
      "name": "python"
    },
    "accelerator": "TPU"
  },
  "cells": [
    {
      "cell_type": "markdown",
      "metadata": {
        "id": "view-in-github",
        "colab_type": "text"
      },
      "source": [
        "<a href=\"https://colab.research.google.com/github/paralkardhananjay/Bike-Sharing-Demand-Prediction-D-Paralkar/blob/main/Bike_Sharing_Demand_Prediction_%7CD_Paralkar.ipynb\" target=\"_parent\"><img src=\"https://colab.research.google.com/assets/colab-badge.svg\" alt=\"Open In Colab\"/></a>"
      ]
    },
    {
      "cell_type": "markdown",
      "source": [
        "# **Project Name**    -  Bike Sharing Demand Prediction\n",
        "\n"
      ],
      "metadata": {
        "id": "vncDsAP0Gaoa"
      }
    },
    {
      "cell_type": "markdown",
      "source": [
        "##### **Project Type**     Regression\n",
        "##### **Contribution**    - Individual\n",
        "##### **Team Member 1 -**  Dhananjay Paralkar\n"
      ],
      "metadata": {
        "id": "beRrZCGUAJYm"
      }
    },
    {
      "cell_type": "markdown",
      "source": [
        "# **Project Summary -**"
      ],
      "metadata": {
        "id": "FJNUwmbgGyua"
      }
    },
    {
      "cell_type": "markdown",
      "source": [
        "Rental bikes have become a popular addition to urban cities, improving mobility and comfort. Ensuring their availability and accessibility is crucial, reducing waiting times. However, a significant challenge lies in maintaining a stable supply of rental bikes. The key is accurately predicting the required bike count per hour to meet demand. This prediction becomes crucial for achieving a seamless and consistent rental bike service throughout the city."
      ],
      "metadata": {
        "id": "F6v_1wHtG2nS"
      }
    },
    {
      "cell_type": "markdown",
      "source": [
        "# **GitHub Link -**"
      ],
      "metadata": {
        "id": "w6K7xa23Elo4"
      }
    },
    {
      "cell_type": "markdown",
      "source": [
        "Provide your GitHub Link here. "
      ],
      "metadata": {
        "id": "h1o69JH3Eqqn"
      }
    },
    {
      "cell_type": "markdown",
      "source": [
        "# **Problem Statement**\n"
      ],
      "metadata": {
        "id": "yQaldy8SH6Dl"
      }
    },
    {
      "cell_type": "markdown",
      "source": [
        "**Write Problem Statement Here.**"
      ],
      "metadata": {
        "id": "DpeJGUA3kjGy"
      }
    },
    {
      "cell_type": "markdown",
      "source": [
        "# **General Guidelines** : -  "
      ],
      "metadata": {
        "id": "mDgbUHAGgjLW"
      }
    },
    {
      "cell_type": "markdown",
      "source": [
        "1.   Well-structured, formatted, and commented code is required. \n",
        "2.   Exception Handling, Production Grade Code & Deployment Ready Code will be a plus. Those students will be awarded some additional credits. \n",
        "     \n",
        "     The additional credits will have advantages over other students during Star Student selection.\n",
        "       \n",
        "             [ Note: - Deployment Ready Code is defined as, the whole .ipynb notebook should be executable in one go\n",
        "                       without a single error logged. ]\n",
        "\n",
        "3.   Each and every logic should have proper comments.\n",
        "4. You may add as many number of charts you want. Make Sure for each and every chart the following format should be answered.\n",
        "        \n",
        "\n",
        "```\n",
        "# Chart visualization code\n",
        "```\n",
        "            \n",
        "\n",
        "*   Why did you pick the specific chart?\n",
        "*   What is/are the insight(s) found from the chart?\n",
        "* Will the gained insights help creating a positive business impact? \n",
        "Are there any insights that lead to negative growth? Justify with specific reason.\n",
        "\n",
        "5. You have to create at least 15 logical & meaningful charts having important insights.\n",
        "\n",
        "\n",
        "[ Hints : - Do the Vizualization in  a structured way while following \"UBM\" Rule. \n",
        "\n",
        "U - Univariate Analysis,\n",
        "\n",
        "B - Bivariate Analysis (Numerical - Categorical, Numerical - Numerical, Categorical - Categorical)\n",
        "\n",
        "M - Multivariate Analysis\n",
        " ]\n",
        "\n",
        "\n",
        "\n",
        "\n",
        "\n",
        "6. You may add more ml algorithms for model creation. Make sure for each and every algorithm, the following format should be answered.\n",
        "\n",
        "\n",
        "*   Explain the ML Model used and it's performance using Evaluation metric Score Chart.\n",
        "\n",
        "\n",
        "*   Cross- Validation & Hyperparameter Tuning\n",
        "\n",
        "*   Have you seen any improvement? Note down the improvement with updates Evaluation metric Score Chart.\n",
        "\n",
        "*   Explain each evaluation metric's indication towards business and the business impact pf the ML model used.\n",
        "\n",
        "\n",
        "\n",
        "\n",
        "\n",
        "\n",
        "\n",
        "\n",
        "\n",
        "\n",
        "\n",
        "\n",
        "\n",
        "\n",
        "\n",
        "\n",
        "\n",
        "\n"
      ],
      "metadata": {
        "id": "ZrxVaUj-hHfC"
      }
    },
    {
      "cell_type": "markdown",
      "source": [
        "# ***Let's Begin !***"
      ],
      "metadata": {
        "id": "O_i_v8NEhb9l"
      }
    },
    {
      "cell_type": "markdown",
      "source": [
        "## ***1. Know Your Data***"
      ],
      "metadata": {
        "id": "HhfV-JJviCcP"
      }
    },
    {
      "cell_type": "markdown",
      "source": [
        "### Import Libraries"
      ],
      "metadata": {
        "id": "Y3lxredqlCYt"
      }
    },
    {
      "cell_type": "code",
      "source": [
        "# Importing required libraries\n",
        "import pandas as pd\n",
        "import numpy as np\n",
        "import seaborn as sns\n",
        "import matplotlib.pyplot as plt\n",
        "import math\n",
        "import sklearn\n",
        "from sklearn.model_selection import train_test_split\n",
        "from sklearn.preprocessing import MinMaxScaler,StandardScaler\n",
        "from sklearn.ensemble import RandomForestRegressor,GradientBoostingRegressor\n",
        "from sklearn.linear_model import Ridge, LinearRegression\n",
        "from sklearn.svm import SVR\n",
        "from sklearn.metrics import r2_score,mean_squared_error\n",
        "from sklearn.tree import DecisionTreeRegressor\n",
        "from xgboost import XGBRegressor\n",
        "from sklearn.model_selection import GridSearchCV\n",
        "from sklearn.ensemble import StackingRegressor\n",
        "\n",
        "%matplotlib inline"
      ],
      "metadata": {
        "id": "M8Vqi-pPk-HR"
      },
      "execution_count": null,
      "outputs": []
    },
    {
      "cell_type": "code",
      "source": [
        "#let's mount the google drive for import the dtaset\n",
        "from google.colab import drive\n",
        "drive.mount('/content/drive')"
      ],
      "metadata": {
        "id": "HihczwaVbSUd"
      },
      "execution_count": null,
      "outputs": []
    },
    {
      "cell_type": "markdown",
      "source": [
        "### Dataset Loading"
      ],
      "metadata": {
        "id": "3RnN4peoiCZX"
      }
    },
    {
      "cell_type": "code",
      "source": [
        "# Load Dataset\n",
        "Bike_share = pd.read_csv('/content/drive/MyDrive/SeoulBikeData.csv', encoding= 'unicode_escape')"
      ],
      "metadata": {
        "id": "4CkvbW_SlZ_R"
      },
      "execution_count": null,
      "outputs": []
    },
    {
      "cell_type": "code",
      "source": [
        "# Viewing the datadata of top 5 rows\n",
        "Bike_share.head()"
      ],
      "metadata": {
        "id": "dP7UNiaDcBTO"
      },
      "execution_count": null,
      "outputs": []
    },
    {
      "cell_type": "code",
      "source": [
        "# View the data of bottom 5 rows \n",
        "Bike_share.tail()"
      ],
      "metadata": {
        "id": "oJHAf4aOcChc"
      },
      "execution_count": null,
      "outputs": []
    },
    {
      "cell_type": "code",
      "source": [
        "#Getting the shape of dataset with rows and columns\n",
        "print(Bike_share.shape)\n"
      ],
      "metadata": {
        "id": "o40QH1kjcDcs"
      },
      "execution_count": null,
      "outputs": []
    },
    {
      "cell_type": "code",
      "source": [
        "#check details about the data set\n",
        "Bike_share.info()"
      ],
      "metadata": {
        "id": "o2J3eNiYcEd3"
      },
      "execution_count": null,
      "outputs": []
    },
    {
      "cell_type": "code",
      "source": [
        "#Looking for the description of the dataset\n",
        "Bike_share.describe()"
      ],
      "metadata": {
        "id": "pU9zzFRlcHVs"
      },
      "execution_count": null,
      "outputs": []
    },
    {
      "cell_type": "code",
      "source": [
        "#Getting all the columns\n",
        "Bike_share.columns"
      ],
      "metadata": {
        "id": "VXU-eT_4cJF0"
      },
      "execution_count": null,
      "outputs": []
    },
    {
      "cell_type": "markdown",
      "source": [
        "### Dataset First View"
      ],
      "metadata": {
        "id": "x71ZqKXriCWQ"
      }
    },
    {
      "cell_type": "code",
      "source": [
        "# Dataset First Look"
      ],
      "metadata": {
        "id": "LWNFOSvLl09H"
      },
      "execution_count": null,
      "outputs": []
    },
    {
      "cell_type": "markdown",
      "source": [
        "### Dataset Rows & Columns count"
      ],
      "metadata": {
        "id": "7hBIi_osiCS2"
      }
    },
    {
      "cell_type": "code",
      "source": [
        "# Dataset Rows & Columns count\n",
        "# finding total no of rows in dataset\n",
        "print(\"The no of rows in the dataset is \",len(Bike_share))"
      ],
      "metadata": {
        "id": "Kllu7SJgmLij"
      },
      "execution_count": null,
      "outputs": []
    },
    {
      "cell_type": "markdown",
      "source": [
        "### Dataset Information"
      ],
      "metadata": {
        "id": "JlHwYmJAmNHm"
      }
    },
    {
      "cell_type": "code",
      "source": [
        "# Dataset Info\n",
        "Bike_share.info()"
      ],
      "metadata": {
        "id": "e9hRXRi6meOf"
      },
      "execution_count": null,
      "outputs": []
    },
    {
      "cell_type": "markdown",
      "source": [
        "#### Duplicate Values"
      ],
      "metadata": {
        "id": "35m5QtbWiB9F"
      }
    },
    {
      "cell_type": "code",
      "source": [
        "# Checking Duplicate Values\n",
        "duplicates =len(Bike_share[Bike_share.duplicated()])\n",
        "print(duplicates)"
      ],
      "metadata": {
        "id": "1sLdpKYkmox0"
      },
      "execution_count": null,
      "outputs": []
    },
    {
      "cell_type": "markdown",
      "source": [
        "Convert date column into 3 separeate column"
      ],
      "metadata": {
        "id": "uvmmfEktcZrN"
      }
    },
    {
      "cell_type": "code",
      "source": [
        "import datetime as dt\n",
        "Bike_share['date'] = Bike_share['Date'].apply(lambda x: dt.datetime.strptime(x,\"%d/%m/%Y\"))"
      ],
      "metadata": {
        "id": "RB-T2lU3ciui"
      },
      "execution_count": null,
      "outputs": []
    },
    {
      "cell_type": "code",
      "source": [
        "Bike_share['year'] = Bike_share['date'].dt.year\n",
        "Bike_share['month'] = Bike_share['date'].dt.month\n",
        "\n",
        "Bike_share['day'] = Bike_share['date'].dt.day_name()\n"
      ],
      "metadata": {
        "id": "14pV_5hncjsD"
      },
      "execution_count": null,
      "outputs": []
    },
    {
      "cell_type": "code",
      "source": [
        "#creating a new column of \"weekdays_weekend\" and drop the column \"Date\",\"day\",\"year\"\n",
        "Bike_share['week']=Bike_share['day'].apply(lambda x : \"weekend\" if x=='Saturday' or x=='Sunday' else \"weekday\" )\n"
      ],
      "metadata": {
        "id": "bJ-A4lexck2a"
      },
      "execution_count": null,
      "outputs": []
    },
    {
      "cell_type": "code",
      "source": [
        "# checking no of years\n",
        "Bike_share['week'].value_counts()"
      ],
      "metadata": {
        "id": "QQR7cgH-cmKz"
      },
      "execution_count": null,
      "outputs": []
    },
    {
      "cell_type": "code",
      "source": [
        "Bike_share=Bike_share.drop(columns=['date','day','year'],axis=1)"
      ],
      "metadata": {
        "id": "jOTs2xaacnIy"
      },
      "execution_count": null,
      "outputs": []
    },
    {
      "cell_type": "code",
      "source": [
        "Bike_share.head()"
      ],
      "metadata": {
        "id": "H1iAhrzOcn-6"
      },
      "execution_count": null,
      "outputs": []
    },
    {
      "cell_type": "markdown",
      "source": [
        "To enhance the prediction of bike count, the \"date\" column can be transformed into three separate columns: \"year,\" \"month,\" and \"day.\" The \"year\" column contains only two unique numbers, representing the period from December 2017 to November 2018, which can be considered as one year. Therefore, this column can be dropped from the dataset. \n",
        "\n",
        "The \"day\" column, which contains details about each day of the month, can be modified to indicate whether a day is a weekday or a weekend. This conversion provides relevant information while reducing the unnecessary granularity of daily data. Consequently, the \"day\" column can also be dropped.\n",
        "\n",
        "By eliminating the \"year\" and \"day\" columns, the dataset becomes more focused on the required factors for predicting bike count, such as the month and the distinction between weekdays and weekends. These modifications contribute to a more streamlined and efficient analysis process."
      ],
      "metadata": {
        "id": "zIxg45NCcwuM"
      }
    },
    {
      "cell_type": "code",
      "source": [
        "#Change the int64 column into catagory column\n",
        "cols=['Hour','month','week']\n",
        "for col in cols:\n",
        "  Bike_share[col]=Bike_share[col].astype('category')"
      ],
      "metadata": {
        "id": "W25qW19wc1dV"
      },
      "execution_count": null,
      "outputs": []
    },
    {
      "cell_type": "code",
      "source": [
        "Bike_share.info()"
      ],
      "metadata": {
        "id": "yS9Q2oXvc208"
      },
      "execution_count": null,
      "outputs": []
    },
    {
      "cell_type": "markdown",
      "source": [
        "#### Missing Values/Null Values"
      ],
      "metadata": {
        "id": "PoPl-ycgm1ru"
      }
    },
    {
      "cell_type": "code",
      "source": [
        "# Missing Values/Null Values Count\n",
        "missing_values_count = Bike_share.isnull().sum()\n",
        "\n",
        "print(missing_values_count)"
      ],
      "metadata": {
        "id": "GgHWkxvamxVg"
      },
      "execution_count": null,
      "outputs": []
    },
    {
      "cell_type": "code",
      "source": [
        "# Visualizing the missing values\n",
        "Bike_share = pd.DataFrame(Bike_share)\n",
        "\n",
        "# Create a heatmap of missing values\n",
        "sns.heatmap(Bike_share.isnull(), cmap='viridis')\n",
        "\n",
        "plt.title('Missing Values Heatmap')\n",
        "plt.show()"
      ],
      "metadata": {
        "id": "3q5wnI3om9sJ"
      },
      "execution_count": null,
      "outputs": []
    },
    {
      "cell_type": "markdown",
      "source": [
        "# Exploratory Data Analysis"
      ],
      "metadata": {
        "id": "4mTQhHl4fJTv"
      }
    },
    {
      "cell_type": "markdown",
      "source": [
        "Chart 1"
      ],
      "metadata": {
        "id": "q3Hm80gQju3n"
      }
    },
    {
      "cell_type": "code",
      "source": [
        "# anlysis of data by vizualisation\n",
        "fig,ax=plt.subplots(figsize=(10,5))\n",
        "sns.barplot(data=Bike_share,x='month',y='Rented Bike Count',ax=ax,capsize=.2)\n",
        "ax.set(title='Count of Rented bikes acording to Month ')"
      ],
      "metadata": {
        "id": "BWrpT7gHjn94"
      },
      "execution_count": null,
      "outputs": []
    },
    {
      "cell_type": "markdown",
      "source": [
        "From the above bar plot we can clearly say that from the month 5 to 10 the demand of the rented bike is high as compare to other months\n"
      ],
      "metadata": {
        "id": "51dAz0CTj-g5"
      }
    },
    {
      "cell_type": "markdown",
      "source": [
        "chart-2"
      ],
      "metadata": {
        "id": "5A6riN-7kBU2"
      }
    },
    {
      "cell_type": "code",
      "source": [
        "#anlysis of data by vizualisation\n",
        "fig,ax=plt.subplots(figsize=(10,8))\n",
        "sns.barplot(data=Bike_share,x='week',y='Rented Bike Count',ax=ax,capsize=.2)\n",
        "ax.set(title='Count of Rented bikes acording to weekdays_weekenday ')"
      ],
      "metadata": {
        "id": "rNQHOrO9kExY"
      },
      "execution_count": null,
      "outputs": []
    },
    {
      "cell_type": "markdown",
      "source": [
        "chart 3"
      ],
      "metadata": {
        "id": "uFhnUFL6kKY_"
      }
    },
    {
      "cell_type": "code",
      "source": [
        "#anlysis of data by vizualisation\n",
        "fig,ax=plt.subplots(figsize=(20,8))\n",
        "sns.pointplot(data=Bike_share,x='Hour',y='Rented Bike Count',hue='week',ax=ax)\n",
        "ax.set(title='Count of Rented bikes acording to weekdays_weekend ')"
      ],
      "metadata": {
        "id": "BNRmVwlfkMfn"
      },
      "execution_count": null,
      "outputs": []
    },
    {
      "cell_type": "markdown",
      "source": [
        "Based on the line plot and bar plot, we can observe that weekdays, represented by the blue color, indicate a higher demand for rental bikes, likely due to office commutes. The peak times for bike rentals are from 7 am to 9 am and 5 pm to 7 pm during weekdays.\n",
        "\n",
        "On the other hand, weekends, represented by the orange color, show a comparatively lower demand for rented bikes, particularly in the morning hours. However, as the evening approaches, starting from 4 pm to 8 pm, there is a slight increase in demand for rental bikes during weekends.\n",
        "\n",
        "These patterns suggest that weekdays experience a higher demand for bike rentals, driven by office-related activities, while weekends show a relatively lower demand, with a slight increase in the evening hours."
      ],
      "metadata": {
        "id": "0oawhWOfkW_Y"
      }
    },
    {
      "cell_type": "markdown",
      "source": [
        "chart 4 ( Functioning Day)"
      ],
      "metadata": {
        "id": "7XYC7cwFkd3_"
      }
    },
    {
      "cell_type": "code",
      "source": [
        "#anlysis of data by vizualisation\n",
        "fig,ax=plt.subplots(figsize=(10,8))\n",
        "sns.barplot(data=Bike_share,x='Functioning Day',y='Rented Bike Count',ax=ax,capsize=.2)\n",
        "ax.set(title='Count of Rented bikes acording to Functioning Day ')"
      ],
      "metadata": {
        "id": "IPDF2gEikbth"
      },
      "execution_count": null,
      "outputs": []
    },
    {
      "cell_type": "code",
      "source": [
        "#anlysis of data by vizualisation\n",
        "fig,ax=plt.subplots(figsize=(20,8))\n",
        "sns.pointplot(data=Bike_share,x='Hour',y='Rented Bike Count',hue='Functioning Day',ax=ax)\n",
        "ax.set(title='Count of Rented bikes acording to Functioning Day ')"
      ],
      "metadata": {
        "id": "bmkEKQmylCL-"
      },
      "execution_count": null,
      "outputs": []
    },
    {
      "cell_type": "markdown",
      "source": [
        "The bar plot shows two bars representing two categories of the \"Functioning Day\" variable: \"Yes\" and \"No.\"\n",
        "\n",
        "1. \"Yes\" (representing weekdays): The bar for weekdays (Functioning Day = \"Yes\") shows a higher count of rented bikes compared to weekends. This suggests that weekdays experience a greater demand for rental bikes, possibly due to office commutes and regular working days.\n",
        "\n",
        "2. \"No\" (representing weekends): The bar for weekends (Functioning Day = \"No\") indicates a lower count of rented bikes compared to weekdays. This implies that weekends have a relatively lower demand for rental bikes, possibly due to leisure activities and reduced work-related commuting."
      ],
      "metadata": {
        "id": "2PNKFd4bkw04"
      }
    },
    {
      "cell_type": "markdown",
      "source": [
        "chart 5 (According to Season)"
      ],
      "metadata": {
        "id": "CRjPdq-ylMau"
      }
    },
    {
      "cell_type": "code",
      "source": [
        "#anlysis of data by vizualisation\n",
        "fig,ax=plt.subplots(figsize=(15,8))\n",
        "sns.boxplot(data=Bike_share,x='Seasons',y='Rented Bike Count',ax=ax)\n",
        "ax.set(title='Count of Rented bikes acording to Seasons ')"
      ],
      "metadata": {
        "id": "9hQMGLDilRMw"
      },
      "execution_count": null,
      "outputs": []
    },
    {
      "cell_type": "code",
      "source": [
        "#anlysis of data by vizualisation\n",
        "fig,ax=plt.subplots(figsize=(15,8))\n",
        "sns.barplot(data=Bike_share,x='Seasons',y='Rented Bike Count',ax=ax,capsize=.2)\n",
        "ax.set(title='Count of Rented bikes acording to Seasons ')"
      ],
      "metadata": {
        "id": "KQDNbaYblqAu"
      },
      "execution_count": null,
      "outputs": []
    },
    {
      "cell_type": "markdown",
      "source": [
        "The box plot analysis based on seasons indicates that Summer and Fall have a higher median count of rented bikes, suggesting increased demand during these seasons. In contrast, Spring and Winter show a relatively lower median count, implying lower bike rental activity."
      ],
      "metadata": {
        "id": "P5uT6q7Eli-X"
      }
    },
    {
      "cell_type": "markdown",
      "source": [
        "Chart 6 (According to Holidays)"
      ],
      "metadata": {
        "id": "_h0_emi7lxcB"
      }
    },
    {
      "cell_type": "code",
      "source": [
        "Bike_share.groupby('Holiday').sum()['Rented Bike Count'].plot.pie(radius=1.5)"
      ],
      "metadata": {
        "id": "wZ5_sfCXl0t4"
      },
      "execution_count": null,
      "outputs": []
    },
    {
      "cell_type": "code",
      "source": [
        "#anlysis of data by vizualisation\n",
        "fig,ax=plt.subplots(figsize=(20,8))\n",
        "sns.pointplot(data=Bike_share,x='Hour',y='Rented Bike Count',hue='Holiday',ax=ax)\n",
        "ax.set(title='Count of Rented bikes acording to Holiday ')"
      ],
      "metadata": {
        "id": "j3zkVIakmTaR"
      },
      "execution_count": null,
      "outputs": []
    },
    {
      "cell_type": "markdown",
      "source": [
        "The pie chart illustrates that non-holidays have a higher count of rented bikes, while holidays show a lower count, indicating varying demand based on the holiday status."
      ],
      "metadata": {
        "id": "asouRoU9mOZH"
      }
    },
    {
      "cell_type": "markdown",
      "source": [
        "Chart 7 Analysis of numerical variables"
      ],
      "metadata": {
        "id": "CrKdOErcmetH"
      }
    },
    {
      "cell_type": "code",
      "source": [
        "numerical_columns=['Rented Bike Count','Temperature(°C)','Humidity(%)',\t'Wind speed (m/s)',\t'Visibility (10m)',\t'Solar Radiation (MJ/m2)'\t,'Rainfall(mm)'\t,'Snowfall (cm)']\t"
      ],
      "metadata": {
        "id": "RBH701aqmiby"
      },
      "execution_count": null,
      "outputs": []
    },
    {
      "cell_type": "code",
      "source": [
        "# checking the distribution\n",
        "plt.figure(figsize=(10,10))\n",
        "for index,item in enumerate(numerical_columns):\n",
        "  plt.subplot(3,3,index+1)\n",
        "  sns.distplot(Bike_share[item])"
      ],
      "metadata": {
        "id": "8td3QrVkmkOz"
      },
      "execution_count": null,
      "outputs": []
    },
    {
      "cell_type": "code",
      "source": [
        "# creating a dataframe containing the count of bikes rented in different temperature\n",
        "\n",
        "df_temp = pd.DataFrame(Bike_share.groupby('Temperature(°C)')['Rented Bike Count'].sum())\n",
        "df_temp.reset_index(inplace=True)"
      ],
      "metadata": {
        "id": "YrTshjY-m4kS"
      },
      "execution_count": null,
      "outputs": []
    },
    {
      "cell_type": "code",
      "source": [
        "# plot showing distribution of bike rentals according to temperature intensity\n",
        "\n",
        "plt.figure(figsize=(8,6))\n",
        "sns.distplot(df_temp['Temperature(°C)'])"
      ],
      "metadata": {
        "id": "AGDc2au_m5qF"
      },
      "execution_count": null,
      "outputs": []
    },
    {
      "cell_type": "markdown",
      "source": [
        "Above plot shows that people tend to rent bikes when the temperature is between -5 to 25 degrees."
      ],
      "metadata": {
        "id": "ri7NcNIsnEBp"
      }
    },
    {
      "cell_type": "code",
      "source": [
        "# creating a dataframe containing the count of bikes rented in differant visibility ranges\n",
        "\n",
        "df_visiual = pd.DataFrame(Bike_share.groupby('Visibility (10m)')['Rented Bike Count'].sum())\n",
        "df_visiual.reset_index(inplace=True)"
      ],
      "metadata": {
        "id": "z5dqomvonGu8"
      },
      "execution_count": null,
      "outputs": []
    },
    {
      "cell_type": "code",
      "source": [
        "plt.figure(figsize=(8,6))\n",
        "sns.distplot(df_visiual['Visibility (10m)'])"
      ],
      "metadata": {
        "id": "8UZoAF-lnO-j"
      },
      "execution_count": null,
      "outputs": []
    },
    {
      "cell_type": "markdown",
      "source": [
        "Above plot shows that people tend to rent bikes when the visibility is between \n"
      ],
      "metadata": {
        "id": "ttyA5xQhnaVx"
      }
    },
    {
      "cell_type": "markdown",
      "source": [
        "# Label Encoding"
      ],
      "metadata": {
        "id": "KpDTPhZOnc0I"
      }
    },
    {
      "cell_type": "code",
      "source": [
        "# creating dummy variables for categorical feature --> Seasons, month, DayOfWeek, year, fuctioning day, holiday\n",
        "\n",
        "seasons = pd.get_dummies(Bike_share['Seasons'])\n",
        "\n",
        "working_day = pd.get_dummies(Bike_share['Holiday'])\n",
        "\n",
        "F_day = pd.get_dummies(Bike_share['Functioning Day'])\n",
        "\n",
        "month = pd.get_dummies(Bike_share['month'])\n",
        "\n",
        "week_day = pd.get_dummies(Bike_share['week'])\n",
        "\n"
      ],
      "metadata": {
        "id": "irmhbINenjlo"
      },
      "execution_count": null,
      "outputs": []
    },
    {
      "cell_type": "code",
      "source": [
        "Bike_share = pd.concat([Bike_share,seasons,working_day,F_day,month,week_day],axis=1)\n"
      ],
      "metadata": {
        "id": "hvb1-1FFnlxY"
      },
      "execution_count": null,
      "outputs": []
    },
    {
      "cell_type": "code",
      "source": [
        "# checking the data dummy variable is created or not\n",
        "\n",
        "Bike_share.head()"
      ],
      "metadata": {
        "id": "mU2VqYugnmow"
      },
      "execution_count": null,
      "outputs": []
    },
    {
      "cell_type": "code",
      "source": [
        "## dropping columns for which dummy variables were created\n",
        "\n",
        "Bike_share.drop(['Seasons','Holiday','Functioning Day','week','month'],axis=1,inplace=True)\n"
      ],
      "metadata": {
        "id": "YWcTxQH1noSA"
      },
      "execution_count": null,
      "outputs": []
    },
    {
      "cell_type": "code",
      "source": [
        "Bike_share.drop(['Date'],axis=1,inplace=True) # droping date because we already extract the date from the data\n"
      ],
      "metadata": {
        "id": "29bQGepNnpQ5"
      },
      "execution_count": null,
      "outputs": []
    },
    {
      "cell_type": "markdown",
      "source": [
        "**Checking Multicollinearity**"
      ],
      "metadata": {
        "id": "7KrCYaegnqV8"
      }
    },
    {
      "cell_type": "code",
      "source": [
        "# function to calculate Multicollinearity\n",
        "\n",
        "# checking the vif\n",
        "from statsmodels.stats.outliers_influence import variance_inflation_factor\n",
        "X = Bike_share\n",
        "\n",
        "  \n",
        "# VIF dataframe\n",
        "vif_data = pd.DataFrame()\n",
        "vif_data[\"feature\"] = X.columns\n",
        "  \n",
        "# calculating VIF for each feature\n",
        "vif_data[\"VIF\"] = [variance_inflation_factor(X.values, i)\n",
        "                          for i in range(len(X.columns))]\n",
        "vif_data['VIF'] = round(vif_data['VIF'],2)\n",
        "\n",
        "\n",
        "print(vif_data)"
      ],
      "metadata": {
        "id": "AYoEn68Pn5vY"
      },
      "execution_count": null,
      "outputs": []
    },
    {
      "cell_type": "code",
      "source": [
        "Bike_share=Bike_share.drop(['Rainfall(mm)','Snowfall (cm)'],axis=1)"
      ],
      "metadata": {
        "id": "YZpPpc3Yn76q"
      },
      "execution_count": null,
      "outputs": []
    },
    {
      "cell_type": "markdown",
      "source": [
        "# Regression Plot"
      ],
      "metadata": {
        "id": "oTgvkMRnoWFa"
      }
    },
    {
      "cell_type": "code",
      "source": [
        "numerical_columns=['Rented Bike Count','Temperature(°C)','Humidity(%)',\t'Wind speed (m/s)',\t'Visibility (10m)',\t'Solar Radiation (MJ/m2)'\t]"
      ],
      "metadata": {
        "id": "c5tXdrcmobxA"
      },
      "execution_count": null,
      "outputs": []
    },
    {
      "cell_type": "code",
      "source": [
        "#printing the regression plot for all the numerical features\n",
        "for col in numerical_columns:\n",
        "  fig,ax=plt.subplots(figsize=(10,6))\n",
        "  sns.regplot(x=Bike_share[col],y=Bike_share['Rented Bike Count'],scatter_kws={\"color\": 'orange'}, line_kws={\"color\": \"black\"})\n"
      ],
      "metadata": {
        "id": "FmDjX508odUJ"
      },
      "execution_count": null,
      "outputs": []
    },
    {
      "cell_type": "code",
      "source": [
        "#Assign the value in X and Y\n",
        "X = Bike_share.drop(columns=['Rented Bike Count']).astype(str)\n",
        "y = np.sqrt(Bike_share['Rented Bike Count'])\n"
      ],
      "metadata": {
        "id": "63yFMgd5otSb"
      },
      "execution_count": null,
      "outputs": []
    },
    {
      "cell_type": "code",
      "source": [
        "#Creat test and train data\n",
        "from sklearn.model_selection import train_test_split\n",
        "X_train, X_test, y_train, y_test = train_test_split(X,y, test_size=0.25, random_state=0)\n",
        "print(X_train.shape)\n",
        "print(X_test.shape)"
      ],
      "metadata": {
        "id": "uIxVO0CQpJiU"
      },
      "execution_count": null,
      "outputs": []
    },
    {
      "cell_type": "code",
      "source": [
        "from sklearn.preprocessing import StandardScaler\n",
        "\n",
        "scaler = StandardScaler()\n",
        "\n",
        "X_train = scaler.fit_transform(X_train.values)\n",
        "X_test = scaler.transform(X_test.values)\n"
      ],
      "metadata": {
        "id": "EvM1b-pCoxKI"
      },
      "execution_count": null,
      "outputs": []
    },
    {
      "cell_type": "markdown",
      "source": [
        "# Linear Regression Model"
      ],
      "metadata": {
        "id": "kisbJvL4sYQL"
      }
    },
    {
      "cell_type": "code",
      "source": [
        "#import the packages\n",
        "from sklearn.linear_model import LinearRegression\n",
        "reg= LinearRegression().fit(X_train, y_train)"
      ],
      "metadata": {
        "id": "JumKtgXUscUT"
      },
      "execution_count": null,
      "outputs": []
    },
    {
      "cell_type": "code",
      "source": [
        "#check the score\n",
        "reg.score(X_train, y_train)"
      ],
      "metadata": {
        "id": "RU9XpspfsdzK"
      },
      "execution_count": null,
      "outputs": []
    },
    {
      "cell_type": "code",
      "source": [
        "#check the coefficeint\n",
        "reg.coef_"
      ],
      "metadata": {
        "id": "O-haj_ZSsewc"
      },
      "execution_count": null,
      "outputs": []
    },
    {
      "cell_type": "code",
      "source": [
        "#get the X_train and X-test value\n",
        "y_pred_train=reg.predict(X_train)\n",
        "y_pred_test=reg.predict(X_test)"
      ],
      "metadata": {
        "id": "I5uqE0hHsf6a"
      },
      "execution_count": null,
      "outputs": []
    },
    {
      "cell_type": "code",
      "source": [
        "y_pred_test"
      ],
      "metadata": {
        "id": "1DeB3Vlmshdx"
      },
      "execution_count": null,
      "outputs": []
    },
    {
      "cell_type": "code",
      "source": [
        "#import the packages\n",
        "from sklearn.metrics import mean_squared_error\n",
        "from sklearn.metrics import mean_absolute_error\n",
        "#calculate MSE\n",
        "MSE_lr= mean_squared_error((y_train), (y_pred_train))\n",
        "print(\"MSE :\",MSE_lr)\n",
        "\n",
        "#calculate RMSE\n",
        "RMSE_lr=np.sqrt(MSE_lr)\n",
        "print(\"RMSE :\",RMSE_lr)\n",
        "\n",
        "\n",
        "#calculate MAE\n",
        "MAE_lr= mean_absolute_error(y_train, y_pred_train)\n",
        "print(\"MAE :\",MAE_lr)\n",
        "\n",
        "\n",
        "\n",
        "#import the packages\n",
        "from sklearn.metrics import r2_score\n",
        "#calculate r2 and adjusted r2\n",
        "r2_lr= r2_score(y_train, y_pred_train)\n",
        "print(\"R2 :\",r2_lr)\n",
        "Adjusted_R2_lr = (1-(1-r2_score(y_train, y_pred_train))*((X_test.shape[0]-1)/(X_test.shape[0]-X_test.shape[1]-1)) )\n",
        "\n",
        "print(\"Adjusted R2 :\",Adjusted_R2_lr)"
      ],
      "metadata": {
        "id": "aShUXbTrsi6x"
      },
      "execution_count": null,
      "outputs": []
    },
    {
      "cell_type": "markdown",
      "source": [
        "**Linear Regression with L2 Regularization**"
      ],
      "metadata": {
        "id": "loIAcSJMslvJ"
      }
    },
    {
      "cell_type": "code",
      "source": [
        "#import the packages\n",
        "from sklearn.linear_model import Ridge\n",
        "\n",
        "ridge= Ridge(alpha=0.1)"
      ],
      "metadata": {
        "id": "5-1DYz6tsvDZ"
      },
      "execution_count": null,
      "outputs": []
    },
    {
      "cell_type": "code",
      "source": [
        "#FIT THE MODEL\n",
        "ridge.fit(X_train,y_train)"
      ],
      "metadata": {
        "id": "ONSaCZqzsw4q"
      },
      "execution_count": null,
      "outputs": []
    },
    {
      "cell_type": "code",
      "source": [
        "#check the score\n",
        "ridge.score(X_train, y_train)"
      ],
      "metadata": {
        "id": "GacCU0mtszEi"
      },
      "execution_count": null,
      "outputs": []
    },
    {
      "cell_type": "code",
      "source": [
        "#get the X_train and X-test value\n",
        "y_pred_train_ridge=ridge.predict(X_train)\n",
        "y_pred_test_ridge=ridge.predict(X_test)"
      ],
      "metadata": {
        "id": "rnfEVA61s0Qq"
      },
      "execution_count": null,
      "outputs": []
    },
    {
      "cell_type": "code",
      "source": [
        "# evaluating metrics\n",
        "#import the packages\n",
        "from sklearn.metrics import mean_squared_error\n",
        "#calculate MSE\n",
        "MSE  = mean_squared_error(y_test,y_pred_test_ridge)\n",
        "print(\"MSE :\" , MSE)\n",
        "#calculate RMSE\n",
        "RMSE = np.sqrt(MSE)\n",
        "print(\"RMSE :\" ,RMSE)\n",
        "#calculate r2 and adjusted r2\n",
        "r2_ridge_test = r2_score(y_test,y_pred_test_ridge)\n",
        "print(\"R2 :\" ,r2_ridge_test)\n",
        "print(\"Adjusted R2 : \",1-(1-r2_score(y_test,y_pred_test_ridge))*((X_test.shape[0]-1)/(X_test.shape[0]-X_test.shape[1]-1)))\n"
      ],
      "metadata": {
        "id": "2FbpDD4ks1YV"
      },
      "execution_count": null,
      "outputs": []
    },
    {
      "cell_type": "markdown",
      "source": [
        "\n",
        "\n",
        "**Heteroscedasticity**"
      ],
      "metadata": {
        "id": "uUxWq-DuuwkD"
      }
    },
    {
      "cell_type": "markdown",
      "source": [
        "Heteroscedasticity occurs when the variance of the errors (residuals) in a regression model is not consistent across all levels of the independent variable(s).This contradicts one of linear regression's assumptions, which states that the variance of the errors should be constant (homoscedastic) across all levels of the independent variable(s). Heteroscedasticity is indicated if the plot has a funnel shape, with the spread of residuals growing or decreasing as the predicted values increase."
      ],
      "metadata": {
        "id": "Oc7h6LPFvL-i"
      }
    },
    {
      "cell_type": "code",
      "source": [
        "### Heteroscadacity - Residual plot \n",
        "plt.scatter((y_pred_test),(y_test)-(y_pred_test))\n",
        "plt.xlabel('Predicted Values')\n",
        "plt.ylabel('Residuals')\n",
        "plt.title('Residual Plot')\n",
        "plt.show()"
      ],
      "metadata": {
        "id": "UHHP6FRrvPUc"
      },
      "execution_count": null,
      "outputs": []
    },
    {
      "cell_type": "code",
      "source": [
        "# Actual Price vs predicte for Linear Regression plot\n",
        "plt.figure(figsize=(12,8))\n",
        "plt.plot(y_pred_test)\n",
        "plt.plot(np.array(y_test))\n",
        "plt.legend([\"Predicted\",\"Actual\"])\n",
        "plt.xlabel('No of Test Data')\n",
        "plt.show()"
      ],
      "metadata": {
        "id": "3XaYvkHdvR3A"
      },
      "execution_count": null,
      "outputs": []
    },
    {
      "cell_type": "markdown",
      "source": [
        "**RIDGE REGRESSION**"
      ],
      "metadata": {
        "id": "M0dopCWhveQ8"
      }
    },
    {
      "cell_type": "markdown",
      "source": [
        "Ridge regression is a method for estimating regression model coefficients when the independent variables are highly linked. It use the linear regression model in conjunction with the L2 regularisation approach."
      ],
      "metadata": {
        "id": "tllRixWqvndS"
      }
    },
    {
      "cell_type": "code",
      "source": [
        "#import the packages\n",
        "from sklearn.linear_model import Ridge\n",
        "\n",
        "ridge= Ridge(alpha=0.1)\n"
      ],
      "metadata": {
        "id": "Uu-Z1AyAvq_V"
      },
      "execution_count": null,
      "outputs": []
    },
    {
      "cell_type": "code",
      "source": [
        "#FIT THE MODEL\n",
        "ridge.fit(X_train,y_train)"
      ],
      "metadata": {
        "id": "_idE1Xubvtcr"
      },
      "execution_count": null,
      "outputs": []
    },
    {
      "cell_type": "code",
      "source": [
        "#check the score\n",
        "ridge.score(X_train, y_train)\n",
        "     "
      ],
      "metadata": {
        "id": "ulNmUff9vyHl"
      },
      "execution_count": null,
      "outputs": []
    },
    {
      "cell_type": "code",
      "source": [
        "#get the X_train and X-test value\n",
        "y_pred_train_ridge=ridge.predict(X_train)\n",
        "y_pred_test_ridge=ridge.predict(X_test)\n",
        "     "
      ],
      "metadata": {
        "id": "wcB4nRouvzXu"
      },
      "execution_count": null,
      "outputs": []
    },
    {
      "cell_type": "code",
      "source": [
        "y_pred_train_ridge"
      ],
      "metadata": {
        "id": "LpjnApPWv1Pi"
      },
      "execution_count": null,
      "outputs": []
    },
    {
      "cell_type": "code",
      "source": [
        "y_pred_test_ridge"
      ],
      "metadata": {
        "id": "NDjQq-gQv2q1"
      },
      "execution_count": null,
      "outputs": []
    },
    {
      "cell_type": "code",
      "source": [
        "#import the packages\n",
        "from sklearn.metrics import mean_squared_error\n",
        "#calculate MSE\n",
        "MSE_r= mean_squared_error((y_train), (y_pred_train_ridge))\n",
        "print(\"MSE :\",MSE_r)\n",
        "\n",
        "#calculate RMSE\n",
        "RMSE_r=np.sqrt(MSE_r)\n",
        "print(\"RMSE :\",RMSE_r)\n",
        "\n",
        "\n",
        "#calculate MAE\n",
        "MAE_r= mean_absolute_error(y_train, y_pred_train_ridge)\n",
        "print(\"MAE :\",MAE_r)\n",
        "\n",
        "\n",
        "#import the packages\n",
        "from sklearn.metrics import r2_score\n",
        "#calculate r2 and adjusted r2\n",
        "r2_r= r2_score(y_train, y_pred_train_ridge)\n",
        "print(\"R2 :\",r2_r)\n",
        "Adjusted_R2_r=(1-(1-r2_score(y_train, y_pred_train_ridge))*((X_test.shape[0]-1)/(X_test.shape[0]-X_test.shape[1]-1)) )\n",
        "print(\"Adjusted R2 :\",1-(1-r2_score(y_train, y_pred_train_ridge))*((X_test.shape[0]-1)/(X_test.shape[0]-X_test.shape[1]-1)) )\n",
        "\n",
        "     "
      ],
      "metadata": {
        "id": "iyibAoJdv9Q7"
      },
      "execution_count": null,
      "outputs": []
    },
    {
      "cell_type": "markdown",
      "source": [
        "Looks like our train set's r2 score value is 0.79 that means our model is able to capture most of the data variance. Lets save it in a dataframe for later comparisons."
      ],
      "metadata": {
        "id": "lQSqdMd2wCE1"
      }
    },
    {
      "cell_type": "code",
      "source": [
        "# storing the test set metrics value in a dataframe for later comparison\n",
        "dict1={'Model':'Ridge regression ',\n",
        "       'MAE':round((MAE_r),3),\n",
        "       'MSE':round((MSE_r),3),\n",
        "       'RMSE':round((RMSE_r),3),\n",
        "       'R2_score':round((r2_r),3),\n",
        "       'Adjusted R2':round((Adjusted_R2_r ),2)}\n"
      ],
      "metadata": {
        "id": "9k6tCy_3wGnT"
      },
      "execution_count": null,
      "outputs": []
    },
    {
      "cell_type": "code",
      "source": [
        "#import the packages\n",
        "from sklearn.metrics import mean_squared_error\n",
        "#calculate MSE\n",
        "MSE_r= mean_squared_error(y_test, y_pred_test_ridge)\n",
        "print(\"MSE :\",MSE_r)\n",
        "\n",
        "#calculate RMSE\n",
        "RMSE_r=np.sqrt(MSE_r)\n",
        "print(\"RMSE :\",RMSE_r)\n",
        "\n",
        "\n",
        "#calculate MAE\n",
        "MAE_r= mean_absolute_error(y_test, y_pred_test_ridge)\n",
        "print(\"MAE :\",MAE_r)\n",
        "\n",
        "\n",
        "#import the packages\n",
        "from sklearn.metrics import r2_score\n",
        "#calculate r2 and adjusted r2\n",
        "r2_r= r2_score((y_test), (y_pred_test_ridge))\n",
        "print(\"R2 :\",r2_r)\n",
        "Adjusted_R2_r=(1-(1-r2_score((y_test), (y_pred_test_ridge)))*((X_test.shape[0]-1)/(X_test.shape[0]-X_test.shape[1]-1)) )\n",
        "print(\"Adjusted R2 :\",1-(1-r2_score((y_test), (y_pred_test_ridge)))*((X_test.shape[0]-1)/(X_test.shape[0]-X_test.shape[1]-1)) )\n",
        "\n",
        "     "
      ],
      "metadata": {
        "id": "V06M-9Ogw6gu"
      },
      "execution_count": null,
      "outputs": []
    },
    {
      "cell_type": "markdown",
      "source": [
        "The r2_score for the test set is 0.80. This means our linear model is performing well on the data. Let us try to visualize our residuals and see if there is heteroscedasticity(unequal variance or scatter)."
      ],
      "metadata": {
        "id": "7w42dy4mw99f"
      }
    },
    {
      "cell_type": "code",
      "source": [
        "# storing the test set metrics value in a dataframe for later comparison\n",
        "dict2={'Model':'Ridge regression ',\n",
        "       'MAE':round((MAE_r),3),\n",
        "       'MSE':round((MSE_r),3),\n",
        "       'RMSE':round((RMSE_r),3),\n",
        "       'R2_score':round((r2_r),3),\n",
        "       'Adjusted R2':round((Adjusted_R2_r ),2)}"
      ],
      "metadata": {
        "id": "LztOGOZFxBJr"
      },
      "execution_count": null,
      "outputs": []
    },
    {
      "cell_type": "code",
      "source": [
        "### Heteroscadacity - Residual plot \n",
        "plt.scatter((y_pred_test_ridge),(y_test)-(y_pred_test_ridge))\n",
        "plt.xlabel('Predicted Values')\n",
        "plt.ylabel('Residuals')\n",
        "plt.title('Residual Plot')\n",
        "plt.show()"
      ],
      "metadata": {
        "id": "YN8smyYRxCoN"
      },
      "execution_count": null,
      "outputs": []
    },
    {
      "cell_type": "code",
      "source": [
        "#Plot the figure\n",
        "plt.figure(figsize=(10,8))\n",
        "plt.plot((y_pred_test_ridge))\n",
        "plt.plot((np.array(y_test)))\n",
        "plt.legend([\"Predicted\",\"Actual\"])\n",
        "plt.show()"
      ],
      "metadata": {
        "id": "LnpYRuVPxEbD"
      },
      "execution_count": null,
      "outputs": []
    },
    {
      "cell_type": "markdown",
      "source": [
        "# Linear Regression with Elastic Net"
      ],
      "metadata": {
        "id": "h9W3Xr2MxQ_Y"
      }
    },
    {
      "cell_type": "code",
      "source": [
        "#import the packages\n",
        "from sklearn.linear_model import ElasticNet\n",
        "#a * L1 + b * L2\n",
        "#alpha = a + b and l1_ratio = a / (a + b)\n",
        "elasticnet = ElasticNet(alpha=0.1, l1_ratio=0.5)"
      ],
      "metadata": {
        "id": "YWCnPTzHxXWY"
      },
      "execution_count": null,
      "outputs": []
    },
    {
      "cell_type": "code",
      "source": [
        "#FIT THE MODEL\n",
        "elasticnet.fit(X_train,y_train)"
      ],
      "metadata": {
        "id": "i2CZzfwjxYwQ"
      },
      "execution_count": null,
      "outputs": []
    },
    {
      "cell_type": "code",
      "source": [
        "#check the score\n",
        "elasticnet.score(X_train, y_train)"
      ],
      "metadata": {
        "id": "ha_xZ5sQxZ8M"
      },
      "execution_count": null,
      "outputs": []
    },
    {
      "cell_type": "code",
      "source": [
        "#get the X_train and X-test value\n",
        "y_pred_train_en=elasticnet.predict(X_train)\n",
        "y_pred_test_en=elasticnet.predict(X_test)"
      ],
      "metadata": {
        "id": "znn9MyrcxbcW"
      },
      "execution_count": null,
      "outputs": []
    },
    {
      "cell_type": "code",
      "source": [
        "#import the packages\n",
        "from sklearn.metrics import mean_squared_error\n",
        "#calculate MSE\n",
        "MSE_e= mean_squared_error((y_train), (y_pred_train_en))\n",
        "print(\"MSE :\",MSE_e)\n",
        "\n",
        "#calculate RMSE\n",
        "RMSE_e=np.sqrt(MSE_e)\n",
        "print(\"RMSE :\",RMSE_e)\n",
        "\n",
        "\n",
        "#calculate MAE\n",
        "MAE_e= mean_absolute_error(y_train, y_pred_train_en)\n",
        "print(\"MAE :\",MAE_e)\n",
        "\n",
        "\n",
        "#import the packages\n",
        "from sklearn.metrics import r2_score\n",
        "#calculate r2 and adjusted r2\n",
        "r2_e= r2_score(y_train, y_pred_train_en)\n",
        "print(\"R2 :\",r2_e)\n",
        "Adjusted_R2_e=(1-(1-r2_score(y_train, y_pred_train_en))*((X_test.shape[0]-1)/(X_test.shape[0]-X_test.shape[1]-1)) )\n",
        "print(\"Adjusted R2 :\",1-(1-r2_score(y_train, y_pred_train_en))*((X_test.shape[0]-1)/(X_test.shape[0]-X_test.shape[1]-1)) )\n"
      ],
      "metadata": {
        "id": "rXzoWK7yxc3X"
      },
      "execution_count": null,
      "outputs": []
    },
    {
      "cell_type": "markdown",
      "source": [
        "# Decision Tree"
      ],
      "metadata": {
        "id": "aRZ3XohKxs2k"
      }
    },
    {
      "cell_type": "code",
      "source": [
        "# training model\n",
        "\n",
        "from sklearn.tree import DecisionTreeRegressor\n",
        "regressor = DecisionTreeRegressor(random_state=0)\n",
        "regressor.fit(X_train, y_train)"
      ],
      "metadata": {
        "id": "OYbqWFqJxw68"
      },
      "execution_count": null,
      "outputs": []
    },
    {
      "cell_type": "code",
      "source": [
        "Y_pred_train =regressor.predict(X_train)\n",
        "Y_pred_train"
      ],
      "metadata": {
        "id": "EQm7vDx1xyk8"
      },
      "execution_count": null,
      "outputs": []
    },
    {
      "cell_type": "code",
      "source": [
        "Y_pred_test = regressor.predict(X_test)\n",
        "Y_pred_test"
      ],
      "metadata": {
        "id": "95YDrdBRx2T8"
      },
      "execution_count": null,
      "outputs": []
    },
    {
      "cell_type": "code",
      "source": [
        "r2_score(Y_pred_train,y_train)"
      ],
      "metadata": {
        "id": "BJdebnBSx4qr"
      },
      "execution_count": null,
      "outputs": []
    },
    {
      "cell_type": "code",
      "source": [
        "DT = r2_score(Y_pred_test,y_test)\n",
        "DT"
      ],
      "metadata": {
        "id": "RzSp_AXlx6l_"
      },
      "execution_count": null,
      "outputs": []
    },
    {
      "cell_type": "markdown",
      "source": [
        "# Random Forest"
      ],
      "metadata": {
        "id": "Q837WCYjy1EI"
      }
    },
    {
      "cell_type": "code",
      "source": [
        "#import the packages\n",
        "from sklearn.ensemble import RandomForestRegressor\n",
        "# Create an instance of the RandomForestRegressor\n",
        "rf_model = RandomForestRegressor()\n",
        "\n",
        "rf_model.fit(X_train,y_train)"
      ],
      "metadata": {
        "id": "NfbE0vM_y4ig"
      },
      "execution_count": null,
      "outputs": []
    },
    {
      "cell_type": "code",
      "source": [
        "#  Making predictions on train and test data\n",
        "\n",
        "y_pred_train_r = rf_model.predict(X_train)\n",
        "y_pred_test_r = rf_model.predict(X_test)\n"
      ],
      "metadata": {
        "id": "C4t5UDkty6aU"
      },
      "execution_count": null,
      "outputs": []
    },
    {
      "cell_type": "code",
      "source": [
        "#import the packages\n",
        "from sklearn.metrics import mean_squared_error\n",
        "print(\"Model Score:\",rf_model.score(X_train,y_train))\n",
        "\n",
        "#calculate MSE\n",
        "MSE_rf= mean_squared_error(y_train, y_pred_train_r)\n",
        "print(\"MSE :\",MSE_rf)\n",
        "\n",
        "#calculate RMSE\n",
        "RMSE_rf=np.sqrt(MSE_rf)\n",
        "print(\"RMSE :\",RMSE_rf)\n",
        "\n",
        "\n",
        "#calculate MAE\n",
        "MAE_rf= mean_absolute_error(y_train, y_pred_train_r)\n",
        "print(\"MAE :\",MAE_rf)\n",
        "\n",
        "\n",
        "#import the packages\n",
        "from sklearn.metrics import r2_score\n",
        "#calculate r2 and adjusted r2\n",
        "r2_rf= r2_score(y_train, y_pred_train_r)\n",
        "print(\"R2 :\",r2_rf)\n",
        "Adjusted_R2_rf=(1-(1-r2_score(y_train, y_pred_train_r))*((X_test.shape[0]-1)/(X_test.shape[0]-X_test.shape[1]-1)) )\n",
        "print(\"Adjusted R2 :\",1-(1-r2_score(y_train, y_pred_train_r))*((X_test.shape[0]-1)/(X_test.shape[0]-X_test.shape[1]-1)) )\n",
        "\n",
        "     "
      ],
      "metadata": {
        "id": "Dn19ugjcy8an"
      },
      "execution_count": null,
      "outputs": []
    },
    {
      "cell_type": "code",
      "source": [
        "# storing the test set metrics value in a dataframe for later comparison\n",
        "dict1={'Model':'Random forest regression ',\n",
        "       'MAE':round((MAE_rf),3),\n",
        "       'MSE':round((MSE_rf),3),\n",
        "       'RMSE':round((RMSE_rf),3),\n",
        "       'R2_score':round((r2_rf),3),\n",
        "       'Adjusted R2':round((Adjusted_R2_rf ),2)}\n",
        "     "
      ],
      "metadata": {
        "id": "E0hv9JACy-of"
      },
      "execution_count": null,
      "outputs": []
    },
    {
      "cell_type": "code",
      "source": [
        "#import the packages\n",
        "from sklearn.metrics import mean_squared_error\n",
        "#calculate MSE\n",
        "MSE_rf= mean_squared_error(y_test, y_pred_test_r)\n",
        "print(\"MSE :\",MSE_rf)\n",
        "\n",
        "#calculate RMSE\n",
        "RMSE_rf=np.sqrt(MSE_rf)\n",
        "print(\"RMSE :\",RMSE_rf)\n",
        "\n",
        "\n",
        "#calculate MAE\n",
        "MAE_rf= mean_absolute_error(y_test, y_pred_test_r)\n",
        "print(\"MAE :\",MAE_rf)\n",
        "\n",
        "\n",
        "#import the packages\n",
        "from sklearn.metrics import r2_score\n",
        "#calculate r2 and adjusted r2\n",
        "r2_rf= r2_score((y_test), (y_pred_test_r))\n",
        "print(\"R2 :\",r2_rf)\n",
        "Adjusted_R2_rf=(1-(1-r2_score((y_test), (y_pred_test_r)))*((X_test.shape[0]-1)/(X_test.shape[0]-X_test.shape[1]-1)) )\n",
        "print(\"Adjusted R2 :\",1-(1-r2_score((y_test), (y_pred_test_r)))*((X_test.shape[0]-1)/(X_test.shape[0]-X_test.shape[1]-1)) )\n",
        "     "
      ],
      "metadata": {
        "id": "0BhFlMyDzBLE"
      },
      "execution_count": null,
      "outputs": []
    },
    {
      "cell_type": "markdown",
      "source": [
        "The r2_score for the test set is 0.91. This means our linear model is performing well on the data. Let us try to visualize our residuals and see if there is heteroscedasticity(unequal variance or scatter)."
      ],
      "metadata": {
        "id": "qegm_b8uzIVu"
      }
    },
    {
      "cell_type": "code",
      "source": [
        "# storing the test set metrics value in a dataframe for later comparison\n",
        "dict2={'Model':'Random forest regression ',\n",
        "       'MAE':round((MAE_rf),3),\n",
        "       'MSE':round((MSE_rf),3),\n",
        "       'RMSE':round((RMSE_rf),3),\n",
        "       'R2_score':round((r2_rf),3),\n",
        "       'Adjusted R2':round((Adjusted_R2_rf ),2)}"
      ],
      "metadata": {
        "id": "3FlzU59szKtG"
      },
      "execution_count": null,
      "outputs": []
    },
    {
      "cell_type": "code",
      "source": [
        "### Heteroscadacity- Residual plot\n",
        "plt.scatter((y_pred_test_r),(y_test)-(y_pred_test_r))\n",
        "plt.xlabel('Predicted Values')\n",
        "plt.ylabel('Residuals')\n",
        "plt.title('Residual Plot')\n",
        "plt.show()"
      ],
      "metadata": {
        "id": "-BS_nozizMNM"
      },
      "execution_count": null,
      "outputs": []
    },
    {
      "cell_type": "markdown",
      "source": [
        "# Hyperparameter tuning"
      ],
      "metadata": {
        "id": "I0Ecl4bQ07Th"
      }
    },
    {
      "cell_type": "markdown",
      "source": [
        "**Gradient Boosting Regressor with GridSearchCV**\n"
      ],
      "metadata": {
        "id": "M8Mhdct91DV0"
      }
    },
    {
      "cell_type": "markdown",
      "source": [
        "\n",
        "*Provide the range of values for chosen hyperparameters*\n",
        "\n",
        "---\n",
        "\n"
      ],
      "metadata": {
        "id": "1-IUdTzQ1JOq"
      }
    },
    {
      "cell_type": "code",
      "source": [
        "# Number of trees\n",
        "n_estimators = [50,80,100]\n",
        "\n",
        "# Maximum depth of trees\n",
        "max_depth = [4,6,8]\n",
        "\n",
        "# Minimum number of samples required to split a node\n",
        "min_samples_split = [50,100,150]\n",
        "\n",
        "# Minimum number of samples required at each leaf node\n",
        "min_samples_leaf = [40,50]\n",
        "\n",
        "# HYperparameter Grid\n",
        "param_dictory = {'n_estimators' : n_estimators,\n",
        "              'max_depth' : max_depth,\n",
        "              'min_samples_split' : min_samples_split,\n",
        "              'min_samples_leaf' : min_samples_leaf}\n",
        "              "
      ],
      "metadata": {
        "id": "-4JxzErP1QlV"
      },
      "execution_count": null,
      "outputs": []
    },
    {
      "cell_type": "code",
      "source": [
        "param_dictory"
      ],
      "metadata": {
        "id": "QXgh2nTW1Ti5"
      },
      "execution_count": null,
      "outputs": []
    },
    {
      "cell_type": "code",
      "source": [
        "# Importing Gradient Boosting Regressor\n",
        "from sklearn.model_selection import GridSearchCV\n",
        "from sklearn.ensemble import GradientBoostingRegressor\n",
        "\n",
        "# Create an instance of the GradientBoostingRegressor\n",
        "gb_model = GradientBoostingRegressor()\n",
        "\n",
        "# Grid search\n",
        "param_dict = {'learning_rate': [0.1, 0.01],\n",
        "              'n_estimators': [50, 100],\n",
        "              'max_depth': [3, 5]}\n",
        "\n",
        "gb_grid = GridSearchCV(estimator=gb_model,\n",
        "                       param_grid=param_dict,\n",
        "                       cv=3, verbose=2, n_jobs=-1)\n",
        "\n",
        "gb_grid.fit(X_train, y_train)"
      ],
      "metadata": {
        "id": "nhi61mGR1izW"
      },
      "execution_count": null,
      "outputs": []
    },
    {
      "cell_type": "code",
      "source": [
        "gb_grid.best_estimator_\n"
      ],
      "metadata": {
        "id": "pqAXvjYx1rKS"
      },
      "execution_count": null,
      "outputs": []
    },
    {
      "cell_type": "code",
      "source": [
        "gb_optimal_model = gb_grid.best_estimator_\n"
      ],
      "metadata": {
        "id": "88eE7-AX1s1-"
      },
      "execution_count": null,
      "outputs": []
    },
    {
      "cell_type": "code",
      "source": [
        "gb_grid.best_params_\n"
      ],
      "metadata": {
        "id": "v_N5PEJ71u3N"
      },
      "execution_count": null,
      "outputs": []
    },
    {
      "cell_type": "code",
      "source": [
        "# Making predictions on train and test data\n",
        "\n",
        "y_pred_train_g_g = gb_optimal_model.predict(X_train)\n",
        "y_pred_g_g= gb_optimal_model.predict(X_test)\n",
        "     "
      ],
      "metadata": {
        "id": "DOfsLz5z1wuO"
      },
      "execution_count": null,
      "outputs": []
    },
    {
      "cell_type": "code",
      "source": [
        "from sklearn.metrics import mean_squared_error\n",
        "print(\"Model Score:\",gb_optimal_model.score(X_train,y_train))\n",
        "MSE_gbh= mean_squared_error(y_train, y_pred_train_g_g)\n",
        "print(\"MSE :\",MSE_gbh)\n",
        "\n",
        "RMSE_gbh=np.sqrt(MSE_gbh)\n",
        "print(\"RMSE :\",RMSE_gbh)\n",
        "\n",
        "\n",
        "MAE_gbh= mean_absolute_error(y_train, y_pred_train_g_g)\n",
        "print(\"MAE :\",MAE_gbh)\n",
        "\n",
        "\n",
        "from sklearn.metrics import r2_score\n",
        "r2_gbh= r2_score(y_train, y_pred_train_g_g)\n",
        "print(\"R2 :\",r2_gbh)\n",
        "Adjusted_R2_gbh = (1-(1-r2_score(y_train, y_pred_train_g_g))*((X_test.shape[0]-1)/(X_test.shape[0]-X_test.shape[1]-1)) )\n",
        "print(\"Adjusted R2 :\",1-(1-r2_score(y_train, y_pred_train_g_g))*((X_test.shape[0]-1)/(X_test.shape[0]-X_test.shape[1]-1)) )\n",
        "\n",
        "     "
      ],
      "metadata": {
        "id": "_CgydXZF1yvA"
      },
      "execution_count": null,
      "outputs": []
    },
    {
      "cell_type": "code",
      "source": [
        "# storing the test set metrics value in a dataframe for later comparison\n",
        "dict1={'Model':'Gradient Boosting gridsearchcv ',\n",
        "       'MAE':round((MAE_gbh),3),\n",
        "       'MSE':round((MSE_gbh),3),\n",
        "       'RMSE':round((RMSE_gbh),3),\n",
        "       'R2_score':round((r2_gbh),3),\n",
        "       'Adjusted R2':round((Adjusted_R2_gbh ),2)\n",
        "      }\n",
        "     \n",
        "\n",
        "from sklearn.metrics import mean_squared_error\n",
        "MSE_gbh= mean_squared_error(y_test, y_pred_g_g)\n",
        "print(\"MSE :\",MSE_gbh)\n",
        "\n",
        "RMSE_gbh=np.sqrt(MSE_gbh)\n",
        "print(\"RMSE :\",RMSE_gbh)\n",
        "\n",
        "\n",
        "MAE_gbh= mean_absolute_error(y_test, y_pred_g_g)\n",
        "print(\"MAE :\",MAE_gbh)\n",
        "\n",
        "\n",
        "from sklearn.metrics import r2_score\n",
        "r2_gbh= r2_score((y_test), (y_pred_g_g))\n",
        "print(\"R2 :\",r2_gbh)\n",
        "Adjusted_R2_gbh = (1-(1-r2_score(y_test, y_pred_g_g))*((X_test.shape[0]-1)/(X_test.shape[0]-X_test.shape[1]-1)) )\n",
        "print(\"Adjusted R2 :\",1-(1-r2_score((y_test), (y_pred_g_g)))*((X_test.shape[0]-1)/(X_test.shape[0]-X_test.shape[1]-1)) )\n",
        "\n",
        "     "
      ],
      "metadata": {
        "id": "r7x0pqpX12AN"
      },
      "execution_count": null,
      "outputs": []
    },
    {
      "cell_type": "markdown",
      "source": [
        "# SVR using grid searchcv"
      ],
      "metadata": {
        "id": "AN_uVSao0iXt"
      }
    },
    {
      "cell_type": "code",
      "source": [
        "from sklearn.svm import SVR"
      ],
      "metadata": {
        "id": "I32_hLXE0opk"
      },
      "execution_count": null,
      "outputs": []
    },
    {
      "cell_type": "code",
      "source": [
        "# selecting the values of SVR\n",
        "param = {'C' : [1,5,10],'degree' : [3,8],'coef0' : [0.01,10,0.5],'gamma' : ('auto','scale')},\n"
      ],
      "metadata": {
        "id": "vJJWITxU0p0F"
      },
      "execution_count": null,
      "outputs": []
    },
    {
      "cell_type": "code",
      "source": [
        "#train the model\n",
        "modelsvr = SVR(kernel='rbf')\n",
        "grids = GridSearchCV(modelsvr,param,cv=3)\n",
        "grids.fit(X_train,y_train)"
      ],
      "metadata": {
        "id": "aSAKRuZS0rLW"
      },
      "execution_count": null,
      "outputs": []
    },
    {
      "cell_type": "code",
      "source": [
        "# predicting for both train and test\n",
        "y_pred_train3=grids.predict(X_train)\n",
        "y_pred_test3=grids.predict(X_test)"
      ],
      "metadata": {
        "id": "hNebhwMt0s1V"
      },
      "execution_count": null,
      "outputs": []
    },
    {
      "cell_type": "code",
      "source": [
        "# finding each of the metrics for training set\n",
        "\n",
        "print('The MAE of training set = ',mean_absolute_error(y_train, y_pred_train3))\n",
        "print('The MSE of training set = ',mean_squared_error(y_train, y_pred_train3))\n",
        "print('The R2_score of training set = ',r2_score(y_train, y_pred_train3))"
      ],
      "metadata": {
        "id": "-PuxcfUz0t_o"
      },
      "execution_count": null,
      "outputs": []
    },
    {
      "cell_type": "code",
      "source": [
        "# finding each metrics for test set\n",
        "svr = r2_score(y_test, y_pred_test3)\n",
        "print('The MAE of test set = ',mean_absolute_error(y_test, y_pred_test3))\n",
        "print('The MSE of test set = ',mean_squared_error(y_test, y_pred_test3))\n",
        "print('The R2_score of test set = ',r2_score(y_test, y_pred_test3))"
      ],
      "metadata": {
        "id": "5VbwUwKw0vrN"
      },
      "execution_count": null,
      "outputs": []
    },
    {
      "cell_type": "markdown",
      "source": [
        "# **Conclusion**"
      ],
      "metadata": {
        "id": "gCX9965dhzqZ"
      }
    },
    {
      "cell_type": "markdown",
      "source": [
        "Write the conclusion here."
      ],
      "metadata": {
        "id": "Fjb1IsQkh3yE"
      }
    },
    {
      "cell_type": "markdown",
      "source": [
        "We may take the following conclusions based on the observations and analyses presented.\n",
        "1. The hour of the day is the most important factor for estimating bike rentals. This implies that the time of day has a considerable impact on the demand for rental bikes.\n",
        "2. The greatest season for bike rentals is Autumn/Fall, followed by Summer, and the lowest season is Spring. This suggests that seasonal fluctuations influence demand for rental bikes.\n",
        "3. Clear days have the most bike rentals, whilst snowy or wet days have the fewest. The weather has a significant impact on bike rental demand.\n",
        "Season_winter, Temperature, Hour, Season_autumn, and Humidity are the top five relevant characteristics for forecasting bike rentals. These characteristics have a substantial influence on the number of rented bikes.\n",
        "4. The top five functions for predicting bike rentals are Season_Winter, Temperature, Hour, Season_Autumn, and Humidity. These variables have a large impact on the number of rental bikes.\n",
        "5. There is less demand for rental bicycles on holidays. From this, it can be seen that there are many days when rental bicycles are used, such as commuting.\n",
        "6. People tend to rent bikes when the temperature is between -5 and 25 degrees Celsius. This suggests that mild to moderately warm weather is suitable for bike rentals.\n",
        "7. Bike demand peaks between 8am-9am and 6pm-7pm. These times correspond to typical commute hours. \n",
        "8. People generally prefer to rent bikes in the summer rather than in the winter, probably because of the better weather conditions."
      ],
      "metadata": {
        "id": "L_Vo9xhl2sWy"
      }
    },
    {
      "cell_type": "markdown",
      "source": [
        "### ***Hurrah! You have successfully completed your Machine Learning Capstone Project !!!***"
      ],
      "metadata": {
        "id": "gIfDvo9L0UH2"
      }
    }
  ]
}